{
 "cells": [
  {
   "cell_type": "markdown",
   "metadata": {},
   "source": [
    "# Question 1\n",
    "Write down a program in Python for Opening a File and Writing \" I Love LetsUpgrade\" And close\n",
    "it, and read it back again, and then append some data to it and close it.\n"
   ]
  },
  {
   "cell_type": "markdown",
   "metadata": {},
   "source": [
    "# Wrting The Contents And Closing It"
   ]
  },
  {
   "cell_type": "code",
   "execution_count": 8,
   "metadata": {},
   "outputs": [],
   "source": [
    "pyt = open (\"Lu.txt\" , 'w')\n",
    "pyt.write(\"I Love Letsupgrade\")\n",
    "pyt.close()"
   ]
  },
  {
   "cell_type": "markdown",
   "metadata": {},
   "source": [
    "# Reading The Data"
   ]
  },
  {
   "cell_type": "code",
   "execution_count": 9,
   "metadata": {},
   "outputs": [
    {
     "name": "stdout",
     "output_type": "stream",
     "text": [
      "I Love Letsupgrade\n"
     ]
    }
   ],
   "source": [
    "pyt = open (\"Lu.txt\" ,'r')\n",
    "cnt = pyt.read()\n",
    "pyt.close\n",
    "pyt = open \n",
    "print(cnt)"
   ]
  },
  {
   "cell_type": "markdown",
   "metadata": {},
   "source": [
    "# Appending Some Data "
   ]
  },
  {
   "cell_type": "code",
   "execution_count": 10,
   "metadata": {},
   "outputs": [],
   "source": [
    "pyt = open (\"Lu.txt\" , 'a')\n",
    "pyt.write ( \" My Name Is dhananjay\")\n",
    "pyt.close()"
   ]
  },
  {
   "cell_type": "code",
   "execution_count": 11,
   "metadata": {},
   "outputs": [
    {
     "name": "stdout",
     "output_type": "stream",
     "text": [
      "I Love Letsupgrade My Name Is dhananjay\n"
     ]
    }
   ],
   "source": [
    "pyt= open (\"Lu.txt\" , 'r')\n",
    "c = pyt.read()\n",
    "pyt.close\n",
    "print (c)"
   ]
  },
  {
   "cell_type": "markdown",
   "metadata": {},
   "source": [
    "# Question 2\n",
    "Write a function which can return a Factorial of any numbers as INT, given in the argument."
   ]
  },
  {
   "cell_type": "code",
   "execution_count": 12,
   "metadata": {},
   "outputs": [
    {
     "name": "stdout",
     "output_type": "stream",
     "text": [
      "Enter a Number: 5\n",
      "Factorial Of  5 is 120\n"
     ]
    }
   ],
   "source": [
    "def factorial(num):\n",
    "    if num == 1:\n",
    "        return num\n",
    "    else:\n",
    "        return num * factorial(num - 1)\n",
    "    \n",
    "num = int(input(\"Enter a Number: \"))\n",
    "\n",
    "if num < 0:\n",
    "    print (\" Dont Give Any Negative Number\")\n",
    "elif num == 0:\n",
    "    print (\"Factorial Of 0 is 1\")\n",
    "else :\n",
    "    print (\"Factorial Of \" , num, \"is\" , factorial (num))"
   ]
  }
 ],
 "metadata": {
  "kernelspec": {
   "display_name": "Python 3",
   "language": "python",
   "name": "python3"
  },
  "language_info": {
   "codemirror_mode": {
    "name": "ipython",
    "version": 3
   },
   "file_extension": ".py",
   "mimetype": "text/x-python",
   "name": "python",
   "nbconvert_exporter": "python",
   "pygments_lexer": "ipython3",
   "version": "3.8.5"
  }
 },
 "nbformat": 4,
 "nbformat_minor": 4
}
